{
 "cells": [
  {
   "cell_type": "markdown",
   "metadata": {
    "id": "1aElr2Glq-yd"
   },
   "source": [
    "# Instructions\n",
    "\n",
    "Ce notebook ne doit contenir que votre script servant à utiliser vos modèles **entrainés** en les testant sur le dataset *fake-test.csv*. Nous devons pouvoir l'exécuter en cliquant sur *Exécution -> Tout exécuter*.\n",
    "\n",
    "Nous utiliserons ce script pour évaluer votre modèle sur nos propres données d'évaluation par la suite.\n"
   ]
  },
  {
   "cell_type": "code",
   "execution_count": 3,
   "metadata": {
    "id": "Ur7U1zvIILgo"
   },
   "outputs": [],
   "source": [
    "from transformers import AutoModelForSequenceClassification,Trainer, AutoTokenizer\n",
    "import torch\n",
    "from datasets import load_dataset\n",
    "import numpy as np\n",
    "import evaluate\n",
    "\n",
    "# Load the model and tokenizer\n",
    "model = AutoModelForSequenceClassification.from_pretrained(\"saved_model\").cuda()\n",
    "tokenizer = AutoTokenizer.from_pretrained(\"saved_model\")\n",
    "ds_evaluate = load_dataset(\"csv\", data_files=\"fake_test.csv\", split='train')"
   ]
  },
  {
   "cell_type": "code",
   "execution_count": 4,
   "metadata": {},
   "outputs": [
    {
     "name": "stderr",
     "output_type": "stream",
     "text": [
      "100%|██████████| 61/61 [00:07<00:00,  7.90it/s]"
     ]
    },
    {
     "name": "stdout",
     "output_type": "stream",
     "text": [
      "Evaluation Results: {'accuracy': 0.9588477366255144}\n"
     ]
    },
    {
     "name": "stderr",
     "output_type": "stream",
     "text": [
      "\n"
     ]
    }
   ],
   "source": [
    "def preprocess_function(examples):\n",
    "    return tokenizer(examples['data'], truncation=True, padding=True, max_length=512)\n",
    "\n",
    "accuracy = evaluate.load(\"accuracy\")\n",
    "tokenized_evaluate = ds_evaluate.map(preprocess_function, batched=True)\n",
    "\n",
    "\n",
    "trainer = Trainer(model= model)\n",
    "predictions = trainer.predict(tokenized_evaluate)\n",
    "predicted_labels = np.argmax(predictions.predictions, axis=1)\n",
    "\n",
    "true_labels = ds_evaluate['label']\n",
    "results = accuracy.compute(predictions=predicted_labels, references=true_labels)\n",
    "print(\"Evaluation Results:\", results)"
   ]
  }
 ],
 "metadata": {
  "colab": {
   "provenance": []
  },
  "kernelspec": {
   "display_name": "Python 3",
   "name": "python3"
  },
  "language_info": {
   "codemirror_mode": {
    "name": "ipython",
    "version": 3
   },
   "file_extension": ".py",
   "mimetype": "text/x-python",
   "name": "python",
   "nbconvert_exporter": "python",
   "pygments_lexer": "ipython3",
   "version": "3.12.7"
  }
 },
 "nbformat": 4,
 "nbformat_minor": 0
}
